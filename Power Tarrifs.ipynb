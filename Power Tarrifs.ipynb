{
 "cells": [
  {
   "cell_type": "code",
   "execution_count": 1,
   "metadata": {},
   "outputs": [],
   "source": [
    "import gurobipy as gp\n",
    "from gurobipy import GRB\n",
    "import numpy as np"
   ]
  },
  {
   "cell_type": "code",
   "execution_count": 2,
   "metadata": {},
   "outputs": [
    {
     "name": "stdout",
     "output_type": "stream",
     "text": [
      "Academic license - for non-commercial use only - expires 2021-07-21\n",
      "Using license file C:\\Users\\Satish\\gurobi.lic\n"
     ]
    }
   ],
   "source": [
    "m= gp.Model('Power Tarrif')"
   ]
  },
  {
   "cell_type": "code",
   "execution_count": 3,
   "metadata": {},
   "outputs": [],
   "source": [
    "X = m.addVars(3,5,vtype='i',lb=0) # No of Units of ith type is running in t time period"
   ]
  },
  {
   "cell_type": "code",
   "execution_count": 4,
   "metadata": {},
   "outputs": [],
   "source": [
    "L = m.addVars(3,5,vtype='i',lb=0) # Load of ith type units at time period t"
   ]
  },
  {
   "cell_type": "code",
   "execution_count": 5,
   "metadata": {},
   "outputs": [],
   "source": [
    "S = m.addVars(3,5,vtype='i',lb=0) # No of units ith type units started at time period t"
   ]
  },
  {
   "cell_type": "code",
   "execution_count": 6,
   "metadata": {},
   "outputs": [],
   "source": [
    "Load_max=[2000,1750,4000]\n",
    "Load_min=[850,1250,1500]"
   ]
  },
  {
   "cell_type": "code",
   "execution_count": null,
   "metadata": {},
   "outputs": [],
   "source": []
  },
  {
   "cell_type": "code",
   "execution_count": 7,
   "metadata": {},
   "outputs": [
    {
     "data": {
      "text/plain": [
       "{(0, 0): <gurobi.Constr *Awaiting Model Update*>,\n",
       " (0, 1): <gurobi.Constr *Awaiting Model Update*>,\n",
       " (0, 2): <gurobi.Constr *Awaiting Model Update*>,\n",
       " (0, 3): <gurobi.Constr *Awaiting Model Update*>,\n",
       " (0, 4): <gurobi.Constr *Awaiting Model Update*>,\n",
       " (1, 0): <gurobi.Constr *Awaiting Model Update*>,\n",
       " (1, 1): <gurobi.Constr *Awaiting Model Update*>,\n",
       " (1, 2): <gurobi.Constr *Awaiting Model Update*>,\n",
       " (1, 3): <gurobi.Constr *Awaiting Model Update*>,\n",
       " (1, 4): <gurobi.Constr *Awaiting Model Update*>,\n",
       " (2, 0): <gurobi.Constr *Awaiting Model Update*>,\n",
       " (2, 1): <gurobi.Constr *Awaiting Model Update*>,\n",
       " (2, 2): <gurobi.Constr *Awaiting Model Update*>,\n",
       " (2, 3): <gurobi.Constr *Awaiting Model Update*>,\n",
       " (2, 4): <gurobi.Constr *Awaiting Model Update*>}"
      ]
     },
     "execution_count": 7,
     "metadata": {},
     "output_type": "execute_result"
    }
   ],
   "source": [
    "m.addConstrs((L[i,t] <= (Load_max[i] * X[i,t]) for i in range(3) for t in range(5)))\n",
    "#Maximum Load constraint for ith type of unit in t th time period."
   ]
  },
  {
   "cell_type": "code",
   "execution_count": 8,
   "metadata": {},
   "outputs": [
    {
     "data": {
      "text/plain": [
       "{(0, 0): <gurobi.Constr *Awaiting Model Update*>,\n",
       " (0, 1): <gurobi.Constr *Awaiting Model Update*>,\n",
       " (0, 2): <gurobi.Constr *Awaiting Model Update*>,\n",
       " (0, 3): <gurobi.Constr *Awaiting Model Update*>,\n",
       " (0, 4): <gurobi.Constr *Awaiting Model Update*>,\n",
       " (1, 0): <gurobi.Constr *Awaiting Model Update*>,\n",
       " (1, 1): <gurobi.Constr *Awaiting Model Update*>,\n",
       " (1, 2): <gurobi.Constr *Awaiting Model Update*>,\n",
       " (1, 3): <gurobi.Constr *Awaiting Model Update*>,\n",
       " (1, 4): <gurobi.Constr *Awaiting Model Update*>,\n",
       " (2, 0): <gurobi.Constr *Awaiting Model Update*>,\n",
       " (2, 1): <gurobi.Constr *Awaiting Model Update*>,\n",
       " (2, 2): <gurobi.Constr *Awaiting Model Update*>,\n",
       " (2, 3): <gurobi.Constr *Awaiting Model Update*>,\n",
       " (2, 4): <gurobi.Constr *Awaiting Model Update*>}"
      ]
     },
     "execution_count": 8,
     "metadata": {},
     "output_type": "execute_result"
    }
   ],
   "source": [
    "m.addConstrs((L[i,t] >= (Load_min[i] * X[i,t]) for i in range(3) for t in range(5)))\n",
    "#Minimum Load constraint for ith type of unit in t th time period."
   ]
  },
  {
   "cell_type": "code",
   "execution_count": 9,
   "metadata": {},
   "outputs": [],
   "source": [
    "No_of_units=[12,10,5]"
   ]
  },
  {
   "cell_type": "code",
   "execution_count": 10,
   "metadata": {},
   "outputs": [
    {
     "data": {
      "text/plain": [
       "{(0, 0): <gurobi.Constr *Awaiting Model Update*>,\n",
       " (0, 1): <gurobi.Constr *Awaiting Model Update*>,\n",
       " (0, 2): <gurobi.Constr *Awaiting Model Update*>,\n",
       " (0, 3): <gurobi.Constr *Awaiting Model Update*>,\n",
       " (0, 4): <gurobi.Constr *Awaiting Model Update*>,\n",
       " (1, 0): <gurobi.Constr *Awaiting Model Update*>,\n",
       " (1, 1): <gurobi.Constr *Awaiting Model Update*>,\n",
       " (1, 2): <gurobi.Constr *Awaiting Model Update*>,\n",
       " (1, 3): <gurobi.Constr *Awaiting Model Update*>,\n",
       " (1, 4): <gurobi.Constr *Awaiting Model Update*>,\n",
       " (2, 0): <gurobi.Constr *Awaiting Model Update*>,\n",
       " (2, 1): <gurobi.Constr *Awaiting Model Update*>,\n",
       " (2, 2): <gurobi.Constr *Awaiting Model Update*>,\n",
       " (2, 3): <gurobi.Constr *Awaiting Model Update*>,\n",
       " (2, 4): <gurobi.Constr *Awaiting Model Update*>}"
      ]
     },
     "execution_count": 10,
     "metadata": {},
     "output_type": "execute_result"
    }
   ],
   "source": [
    "m.addConstrs((X[i,t] <= (No_of_units[i]) for i in range(3) for t in range(5)))\n",
    "#No of units of ith type."
   ]
  },
  {
   "cell_type": "code",
   "execution_count": 11,
   "metadata": {},
   "outputs": [],
   "source": [
    "Req_time = [15000,30000,25000,40000,27000]"
   ]
  },
  {
   "cell_type": "code",
   "execution_count": null,
   "metadata": {},
   "outputs": [],
   "source": []
  },
  {
   "cell_type": "code",
   "execution_count": 12,
   "metadata": {},
   "outputs": [
    {
     "data": {
      "text/plain": [
       "{0: <gurobi.Constr *Awaiting Model Update*>,\n",
       " 1: <gurobi.Constr *Awaiting Model Update*>,\n",
       " 2: <gurobi.Constr *Awaiting Model Update*>,\n",
       " 3: <gurobi.Constr *Awaiting Model Update*>,\n",
       " 4: <gurobi.Constr *Awaiting Model Update*>}"
      ]
     },
     "execution_count": 12,
     "metadata": {},
     "output_type": "execute_result"
    }
   ],
   "source": [
    "m.addConstrs(gp.quicksum(L[i,t] for i in range(3)) >= 1.15*Req_time[t] for t in range(5))\n",
    "\n",
    "# 15% additional margin constraints on total available power"
   ]
  },
  {
   "cell_type": "code",
   "execution_count": 13,
   "metadata": {},
   "outputs": [
    {
     "data": {
      "text/plain": [
       "{(0, 1): <gurobi.Constr *Awaiting Model Update*>,\n",
       " (0, 2): <gurobi.Constr *Awaiting Model Update*>,\n",
       " (0, 3): <gurobi.Constr *Awaiting Model Update*>,\n",
       " (0, 4): <gurobi.Constr *Awaiting Model Update*>,\n",
       " (1, 1): <gurobi.Constr *Awaiting Model Update*>,\n",
       " (1, 2): <gurobi.Constr *Awaiting Model Update*>,\n",
       " (1, 3): <gurobi.Constr *Awaiting Model Update*>,\n",
       " (1, 4): <gurobi.Constr *Awaiting Model Update*>,\n",
       " (2, 1): <gurobi.Constr *Awaiting Model Update*>,\n",
       " (2, 2): <gurobi.Constr *Awaiting Model Update*>,\n",
       " (2, 3): <gurobi.Constr *Awaiting Model Update*>,\n",
       " (2, 4): <gurobi.Constr *Awaiting Model Update*>}"
      ]
     },
     "execution_count": 13,
     "metadata": {},
     "output_type": "execute_result"
    }
   ],
   "source": [
    "m.addConstrs(S[i,t] >= (X[i,t] - X[i,t-1]) for i in range(3) for t in range(1,5))"
   ]
  },
  {
   "cell_type": "code",
   "execution_count": 14,
   "metadata": {},
   "outputs": [
    {
     "data": {
      "text/plain": [
       "{0: <gurobi.Constr *Awaiting Model Update*>,\n",
       " 1: <gurobi.Constr *Awaiting Model Update*>,\n",
       " 2: <gurobi.Constr *Awaiting Model Update*>}"
      ]
     },
     "execution_count": 14,
     "metadata": {},
     "output_type": "execute_result"
    }
   ],
   "source": [
    "m.addConstrs(S[i,0] >= (X[i,0] - X[i,5-1]) for i in range(3))"
   ]
  },
  {
   "cell_type": "code",
   "execution_count": null,
   "metadata": {},
   "outputs": [],
   "source": []
  },
  {
   "cell_type": "code",
   "execution_count": 15,
   "metadata": {},
   "outputs": [],
   "source": [
    "hr_time = [6,3,6,3,6]"
   ]
  },
  {
   "cell_type": "code",
   "execution_count": 16,
   "metadata": {},
   "outputs": [],
   "source": [
    "Min_cost = [1000,2600,3000]"
   ]
  },
  {
   "cell_type": "code",
   "execution_count": 17,
   "metadata": {},
   "outputs": [],
   "source": [
    "Abv_min_cost=[2,1.3,3]"
   ]
  },
  {
   "cell_type": "code",
   "execution_count": 18,
   "metadata": {},
   "outputs": [],
   "source": [
    "Startup_cost=[2000,1000,50]"
   ]
  },
  {
   "cell_type": "code",
   "execution_count": null,
   "metadata": {},
   "outputs": [],
   "source": []
  },
  {
   "cell_type": "code",
   "execution_count": null,
   "metadata": {},
   "outputs": [],
   "source": []
  },
  {
   "cell_type": "code",
   "execution_count": 19,
   "metadata": {},
   "outputs": [],
   "source": [
    "m.setObjective(\n",
    "    gp.quicksum((X[i,t]*Min_cost[i]*hr_time[t]) + (L[i,t]-(Load_min[i]*X[i,t]))*Abv_min_cost[i]*hr_time[t] +(S[i,t]*Startup_cost[i]*hr_time[t]) for i in range(3) for t in range(5))\n",
    ")"
   ]
  },
  {
   "cell_type": "code",
   "execution_count": 20,
   "metadata": {},
   "outputs": [
    {
     "name": "stdout",
     "output_type": "stream",
     "text": [
      "Gurobi Optimizer version 9.1.1 build v9.1.1rc0 (win64)\n",
      "Thread count: 4 physical cores, 8 logical processors, using up to 8 threads\n",
      "Optimize a model with 65 rows, 45 columns and 135 nonzeros\n",
      "Model fingerprint: 0x1a40aea6\n",
      "Variable types: 0 continuous, 45 integer (0 binary)\n",
      "Coefficient statistics:\n",
      "  Matrix range     [1e+00, 4e+03]\n",
      "  Objective range  [4e+00, 1e+04]\n",
      "  Bounds range     [0e+00, 0e+00]\n",
      "  RHS range        [5e+00, 5e+04]\n",
      "Presolve removed 15 rows and 0 columns\n",
      "Presolve time: 0.00s\n",
      "Presolved: 50 rows, 45 columns, 120 nonzeros\n",
      "Variable types: 0 continuous, 45 integer (0 binary)\n",
      "Found heuristic solution: objective 1432182.0000\n",
      "Found heuristic solution: objective 1257900.0000\n",
      "\n",
      "Root relaxation: objective 1.173321e+06, 24 iterations, 0.00 seconds\n",
      "\n",
      "    Nodes    |    Current Node    |     Objective Bounds      |     Work\n",
      " Expl Unexpl |  Obj  Depth IntInf | Incumbent    BestBd   Gap | It/Node Time\n",
      "\n",
      "     0     0 1173321.43    0    6 1257900.00 1173321.43  6.72%     -    0s\n",
      "H    0     0                    1177980.0000 1173321.43  0.40%     -    0s\n",
      "H    0     0                    1175340.0000 1173321.43  0.17%     -    0s\n",
      "*    0     0               0    1173450.0000 1173450.00  0.00%     -    0s\n",
      "\n",
      "Cutting planes:\n",
      "  MIR: 2\n",
      "\n",
      "Explored 1 nodes (26 simplex iterations) in 0.04 seconds\n",
      "Thread count was 8 (of 8 available processors)\n",
      "\n",
      "Solution count 5: 1.17345e+06 1.17534e+06 1.17798e+06 ... 1.43218e+06\n",
      "\n",
      "Optimal solution found (tolerance 1.00e-04)\n",
      "Best objective 1.173450000000e+06, best bound 1.173450000000e+06, gap 0.0000%\n"
     ]
    }
   ],
   "source": [
    "m.ModelSense=GRB.MINIMIZE                   #set optimization to maximize\n",
    "m.update()\n",
    "m.optimize()"
   ]
  },
  {
   "cell_type": "code",
   "execution_count": 21,
   "metadata": {},
   "outputs": [
    {
     "data": {
      "text/plain": [
       "{(0, 0): <gurobi.Var C0 (value 12.0)>,\n",
       " (0, 1): <gurobi.Var C1 (value 12.0)>,\n",
       " (0, 2): <gurobi.Var C2 (value 12.0)>,\n",
       " (0, 3): <gurobi.Var C3 (value 12.0)>,\n",
       " (0, 4): <gurobi.Var C4 (value 12.0)>,\n",
       " (1, 0): <gurobi.Var C5 (value 4.0)>,\n",
       " (1, 1): <gurobi.Var C6 (value 10.0)>,\n",
       " (1, 2): <gurobi.Var C7 (value 10.0)>,\n",
       " (1, 3): <gurobi.Var C8 (value 10.0)>,\n",
       " (1, 4): <gurobi.Var C9 (value 10.0)>,\n",
       " (2, 0): <gurobi.Var C10 (value 0.0)>,\n",
       " (2, 1): <gurobi.Var C11 (value 0.0)>,\n",
       " (2, 2): <gurobi.Var C12 (value 0.0)>,\n",
       " (2, 3): <gurobi.Var C13 (value 3.0)>,\n",
       " (2, 4): <gurobi.Var C14 (value 0.0)>}"
      ]
     },
     "execution_count": 21,
     "metadata": {},
     "output_type": "execute_result"
    }
   ],
   "source": [
    "X"
   ]
  },
  {
   "cell_type": "code",
   "execution_count": 22,
   "metadata": {},
   "outputs": [
    {
     "data": {
      "text/plain": [
       "{(0, 0): <gurobi.Var C15 (value 10250.0)>,\n",
       " (0, 1): <gurobi.Var C16 (value 17000.0)>,\n",
       " (0, 2): <gurobi.Var C17 (value 11250.0)>,\n",
       " (0, 3): <gurobi.Var C18 (value 24000.0)>,\n",
       " (0, 4): <gurobi.Var C19 (value 13550.0)>,\n",
       " (1, 0): <gurobi.Var C20 (value 7000.0)>,\n",
       " (1, 1): <gurobi.Var C21 (value 17500.0)>,\n",
       " (1, 2): <gurobi.Var C22 (value 17500.0)>,\n",
       " (1, 3): <gurobi.Var C23 (value 17500.0)>,\n",
       " (1, 4): <gurobi.Var C24 (value 17500.0)>,\n",
       " (2, 0): <gurobi.Var C25 (value -0.0)>,\n",
       " (2, 1): <gurobi.Var C26 (value 0.0)>,\n",
       " (2, 2): <gurobi.Var C27 (value 0.0)>,\n",
       " (2, 3): <gurobi.Var C28 (value 4500.0)>,\n",
       " (2, 4): <gurobi.Var C29 (value -0.0)>}"
      ]
     },
     "execution_count": 22,
     "metadata": {},
     "output_type": "execute_result"
    }
   ],
   "source": [
    "L"
   ]
  },
  {
   "cell_type": "code",
   "execution_count": 23,
   "metadata": {},
   "outputs": [
    {
     "data": {
      "text/plain": [
       "{(0, 0): <gurobi.Var C30 (value -0.0)>,\n",
       " (0, 1): <gurobi.Var C31 (value -0.0)>,\n",
       " (0, 2): <gurobi.Var C32 (value -0.0)>,\n",
       " (0, 3): <gurobi.Var C33 (value -0.0)>,\n",
       " (0, 4): <gurobi.Var C34 (value -0.0)>,\n",
       " (1, 0): <gurobi.Var C35 (value -0.0)>,\n",
       " (1, 1): <gurobi.Var C36 (value 6.0)>,\n",
       " (1, 2): <gurobi.Var C37 (value -0.0)>,\n",
       " (1, 3): <gurobi.Var C38 (value -0.0)>,\n",
       " (1, 4): <gurobi.Var C39 (value -0.0)>,\n",
       " (2, 0): <gurobi.Var C40 (value -0.0)>,\n",
       " (2, 1): <gurobi.Var C41 (value 0.0)>,\n",
       " (2, 2): <gurobi.Var C42 (value -0.0)>,\n",
       " (2, 3): <gurobi.Var C43 (value 3.0)>,\n",
       " (2, 4): <gurobi.Var C44 (value -0.0)>}"
      ]
     },
     "execution_count": 23,
     "metadata": {},
     "output_type": "execute_result"
    }
   ],
   "source": [
    "S"
   ]
  },
  {
   "cell_type": "code",
   "execution_count": null,
   "metadata": {},
   "outputs": [],
   "source": []
  },
  {
   "cell_type": "code",
   "execution_count": null,
   "metadata": {},
   "outputs": [],
   "source": []
  },
  {
   "cell_type": "code",
   "execution_count": null,
   "metadata": {},
   "outputs": [],
   "source": []
  }
 ],
 "metadata": {
  "kernelspec": {
   "display_name": "Python 3",
   "language": "python",
   "name": "python3"
  },
  "language_info": {
   "codemirror_mode": {
    "name": "ipython",
    "version": 3
   },
   "file_extension": ".py",
   "mimetype": "text/x-python",
   "name": "python",
   "nbconvert_exporter": "python",
   "pygments_lexer": "ipython3",
   "version": "3.8.5"
  }
 },
 "nbformat": 4,
 "nbformat_minor": 4
}
